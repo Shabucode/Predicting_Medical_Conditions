{
  "cells": [
    {
      "cell_type": "markdown",
      "metadata": {},
      "source": [
        "#Evaluating various model performances using metrics accuracy, precision, recall and f1-score using MLFlow"
      ]
    },
    {
      "cell_type": "code",
      "execution_count": 40,
      "metadata": {
        "colab": {
          "base_uri": "https://localhost:8080/",
          "height": 206
        },
        "id": "cIPdQf1x4AeP",
        "outputId": "14db7e43-9588-4e71-ab94-c344885f3957"
      },
      "outputs": [
        {
          "data": {
            "text/html": [
              "<div>\n",
              "<style scoped>\n",
              "    .dataframe tbody tr th:only-of-type {\n",
              "        vertical-align: middle;\n",
              "    }\n",
              "\n",
              "    .dataframe tbody tr th {\n",
              "        vertical-align: top;\n",
              "    }\n",
              "\n",
              "    .dataframe thead th {\n",
              "        text-align: right;\n",
              "    }\n",
              "</style>\n",
              "<table border=\"1\" class=\"dataframe\">\n",
              "  <thead>\n",
              "    <tr style=\"text-align: right;\">\n",
              "      <th></th>\n",
              "      <th>nctid</th>\n",
              "      <th>description</th>\n",
              "      <th>label</th>\n",
              "    </tr>\n",
              "  </thead>\n",
              "  <tbody>\n",
              "    <tr>\n",
              "      <th>0</th>\n",
              "      <td>NCT02464748</td>\n",
              "      <td>MND is often referred to as amyotrophic latera...</td>\n",
              "      <td>ALS</td>\n",
              "    </tr>\n",
              "    <tr>\n",
              "      <th>1</th>\n",
              "      <td>NCT00362362</td>\n",
              "      <td>OBJECTIVE:||The causes of sporadic motor neuro...</td>\n",
              "      <td>ALS</td>\n",
              "    </tr>\n",
              "    <tr>\n",
              "      <th>2</th>\n",
              "      <td>NCT03154450</td>\n",
              "      <td>Non-invasive ventilation (NIV) use in patients...</td>\n",
              "      <td>ALS</td>\n",
              "    </tr>\n",
              "    <tr>\n",
              "      <th>3</th>\n",
              "      <td>NCT03487263</td>\n",
              "      <td>The objectives of this study are to determine:...</td>\n",
              "      <td>ALS</td>\n",
              "    </tr>\n",
              "    <tr>\n",
              "      <th>4</th>\n",
              "      <td>NCT04454892</td>\n",
              "      <td>With the development of supportive measures, t...</td>\n",
              "      <td>ALS</td>\n",
              "    </tr>\n",
              "  </tbody>\n",
              "</table>\n",
              "</div>"
            ],
            "text/plain": [
              "         nctid                                        description label\n",
              "0  NCT02464748  MND is often referred to as amyotrophic latera...   ALS\n",
              "1  NCT00362362  OBJECTIVE:||The causes of sporadic motor neuro...   ALS\n",
              "2  NCT03154450  Non-invasive ventilation (NIV) use in patients...   ALS\n",
              "3  NCT03487263  The objectives of this study are to determine:...   ALS\n",
              "4  NCT04454892  With the development of supportive measures, t...   ALS"
            ]
          },
          "execution_count": 40,
          "metadata": {},
          "output_type": "execute_result"
        }
      ],
      "source": [
        "import pandas as pd\n",
        "data_path = r\"data\\trials.csv\"\n",
        "df = pd.read_csv(data_path)\n",
        "df.head()"
      ]
    },
    {
      "cell_type": "code",
      "execution_count": 7,
      "metadata": {
        "colab": {
          "base_uri": "https://localhost:8080/",
          "height": 175
        },
        "id": "bsVK1GQm4f69",
        "outputId": "14c894f7-7878-4eb4-9e3b-b2cff351a428"
      },
      "outputs": [
        {
          "data": {
            "text/html": [
              "<div>\n",
              "<style scoped>\n",
              "    .dataframe tbody tr th:only-of-type {\n",
              "        vertical-align: middle;\n",
              "    }\n",
              "\n",
              "    .dataframe tbody tr th {\n",
              "        vertical-align: top;\n",
              "    }\n",
              "\n",
              "    .dataframe thead th {\n",
              "        text-align: right;\n",
              "    }\n",
              "</style>\n",
              "<table border=\"1\" class=\"dataframe\">\n",
              "  <thead>\n",
              "    <tr style=\"text-align: right;\">\n",
              "      <th></th>\n",
              "      <th>nctid</th>\n",
              "      <th>description</th>\n",
              "      <th>label</th>\n",
              "    </tr>\n",
              "  </thead>\n",
              "  <tbody>\n",
              "    <tr>\n",
              "      <th>count</th>\n",
              "      <td>1759</td>\n",
              "      <td>1759</td>\n",
              "      <td>1759</td>\n",
              "    </tr>\n",
              "    <tr>\n",
              "      <th>unique</th>\n",
              "      <td>1759</td>\n",
              "      <td>1752</td>\n",
              "      <td>5</td>\n",
              "    </tr>\n",
              "    <tr>\n",
              "      <th>top</th>\n",
              "      <td>NCT01766674</td>\n",
              "      <td>In this study our purpose is to evaluate the s...</td>\n",
              "      <td>ALS</td>\n",
              "    </tr>\n",
              "    <tr>\n",
              "      <th>freq</th>\n",
              "      <td>1</td>\n",
              "      <td>3</td>\n",
              "      <td>368</td>\n",
              "    </tr>\n",
              "  </tbody>\n",
              "</table>\n",
              "</div>"
            ],
            "text/plain": [
              "              nctid                                        description label\n",
              "count          1759                                               1759  1759\n",
              "unique         1759                                               1752     5\n",
              "top     NCT01766674  In this study our purpose is to evaluate the s...   ALS\n",
              "freq              1                                                  3   368"
            ]
          },
          "execution_count": 7,
          "metadata": {},
          "output_type": "execute_result"
        }
      ],
      "source": [
        "df.describe()"
      ]
    },
    {
      "cell_type": "code",
      "execution_count": 8,
      "metadata": {
        "colab": {
          "base_uri": "https://localhost:8080/"
        },
        "id": "bT0fPAtN4kMC",
        "outputId": "ff380c40-d172-4d2d-9f55-4f2e60d23c7e"
      },
      "outputs": [
        {
          "name": "stdout",
          "output_type": "stream",
          "text": [
            "<class 'pandas.core.frame.DataFrame'>\n",
            "RangeIndex: 1759 entries, 0 to 1758\n",
            "Data columns (total 3 columns):\n",
            " #   Column       Non-Null Count  Dtype \n",
            "---  ------       --------------  ----- \n",
            " 0   nctid        1759 non-null   object\n",
            " 1   description  1759 non-null   object\n",
            " 2   label        1759 non-null   object\n",
            "dtypes: object(3)\n",
            "memory usage: 41.4+ KB\n"
          ]
        }
      ],
      "source": [
        "df.info()"
      ]
    },
    {
      "cell_type": "code",
      "execution_count": 9,
      "metadata": {
        "colab": {
          "base_uri": "https://localhost:8080/",
          "height": 272
        },
        "id": "33myHcP_43bG",
        "outputId": "f223efd5-2823-44b3-f760-cbda870b5e11"
      },
      "outputs": [
        {
          "data": {
            "text/plain": [
              "label\n",
              "ALS                              368\n",
              "Dementia                         368\n",
              "Obsessive Compulsive Disorder    358\n",
              "Scoliosis                        335\n",
              "Parkinson’s Disease              330\n",
              "Name: count, dtype: int64"
            ]
          },
          "execution_count": 9,
          "metadata": {},
          "output_type": "execute_result"
        }
      ],
      "source": [
        "df.label.value_counts()"
      ]
    },
    {
      "cell_type": "code",
      "execution_count": 10,
      "metadata": {
        "colab": {
          "base_uri": "https://localhost:8080/"
        },
        "id": "Lo7ezlfL5BgP",
        "outputId": "1d2f064d-8151-4bd2-ed75-2788baa0f7f7"
      },
      "outputs": [
        {
          "data": {
            "text/plain": [
              "(1759, 3)"
            ]
          },
          "execution_count": 10,
          "metadata": {},
          "output_type": "execute_result"
        }
      ],
      "source": [
        "df.shape"
      ]
    },
    {
      "cell_type": "code",
      "execution_count": null,
      "metadata": {
        "id": "Nb_TrO6p6q4w"
      },
      "outputs": [],
      "source": [
        "\n",
        "#Preprocessing/Cleaning\n",
        "import re\n",
        "# Preprocess text\n",
        "def clean_text(text):\n",
        "    text = text.lower()\n",
        "    text = re.sub(r'[^a-zA-Z\\s]', '', text)\n",
        "    return text\n",
        "\n",
        "df['clean_description'] = df['description'].apply(clean_text)"
      ]
    },
    {
      "cell_type": "code",
      "execution_count": 12,
      "metadata": {
        "colab": {
          "base_uri": "https://localhost:8080/",
          "height": 241
        },
        "id": "DzIQWAwd6xrz",
        "outputId": "dda7e75e-018b-46ca-a415-6ba819884cdc"
      },
      "outputs": [
        {
          "data": {
            "text/plain": [
              "0    mnd is often referred to as amyotrophic latera...\n",
              "1    objectivethe causes of sporadic motor neuron d...\n",
              "2    noninvasive ventilation niv use in patients wi...\n",
              "3    the objectives of this study are to determinet...\n",
              "4    with the development of supportive measures th...\n",
              "Name: clean_description, dtype: object"
            ]
          },
          "execution_count": 12,
          "metadata": {},
          "output_type": "execute_result"
        }
      ],
      "source": [
        "df['clean_description'].head()"
      ]
    },
    {
      "cell_type": "code",
      "execution_count": 23,
      "metadata": {},
      "outputs": [
        {
          "data": {
            "text/plain": [
              "0     14\n",
              "1    397\n",
              "2    323\n",
              "3    159\n",
              "4    128\n",
              "Name: description_length, dtype: int64"
            ]
          },
          "execution_count": 23,
          "metadata": {},
          "output_type": "execute_result"
        }
      ],
      "source": [
        "#check the length of the description column\n",
        "df['description_length'] = df['clean_description'].apply(lambda x: len(str(x).split()))\n",
        "\n",
        "df['description_length'].head()"
      ]
    },
    {
      "cell_type": "code",
      "execution_count": 24,
      "metadata": {},
      "outputs": [
        {
          "data": {
            "text/html": [
              "<div>\n",
              "<style scoped>\n",
              "    .dataframe tbody tr th:only-of-type {\n",
              "        vertical-align: middle;\n",
              "    }\n",
              "\n",
              "    .dataframe tbody tr th {\n",
              "        vertical-align: top;\n",
              "    }\n",
              "\n",
              "    .dataframe thead th {\n",
              "        text-align: right;\n",
              "    }\n",
              "</style>\n",
              "<table border=\"1\" class=\"dataframe\">\n",
              "  <thead>\n",
              "    <tr style=\"text-align: right;\">\n",
              "      <th></th>\n",
              "      <th>nctid</th>\n",
              "      <th>description</th>\n",
              "      <th>label</th>\n",
              "      <th>clean_description</th>\n",
              "      <th>description_length</th>\n",
              "    </tr>\n",
              "  </thead>\n",
              "  <tbody>\n",
              "    <tr>\n",
              "      <th>0</th>\n",
              "      <td>NCT02464748</td>\n",
              "      <td>MND is often referred to as amyotrophic latera...</td>\n",
              "      <td>ALS</td>\n",
              "      <td>mnd is often referred to as amyotrophic latera...</td>\n",
              "      <td>14</td>\n",
              "    </tr>\n",
              "    <tr>\n",
              "      <th>1</th>\n",
              "      <td>NCT00362362</td>\n",
              "      <td>OBJECTIVE:||The causes of sporadic motor neuro...</td>\n",
              "      <td>ALS</td>\n",
              "      <td>objectivethe causes of sporadic motor neuron d...</td>\n",
              "      <td>397</td>\n",
              "    </tr>\n",
              "    <tr>\n",
              "      <th>2</th>\n",
              "      <td>NCT03154450</td>\n",
              "      <td>Non-invasive ventilation (NIV) use in patients...</td>\n",
              "      <td>ALS</td>\n",
              "      <td>noninvasive ventilation niv use in patients wi...</td>\n",
              "      <td>323</td>\n",
              "    </tr>\n",
              "    <tr>\n",
              "      <th>3</th>\n",
              "      <td>NCT03487263</td>\n",
              "      <td>The objectives of this study are to determine:...</td>\n",
              "      <td>ALS</td>\n",
              "      <td>the objectives of this study are to determinet...</td>\n",
              "      <td>159</td>\n",
              "    </tr>\n",
              "    <tr>\n",
              "      <th>4</th>\n",
              "      <td>NCT04454892</td>\n",
              "      <td>With the development of supportive measures, t...</td>\n",
              "      <td>ALS</td>\n",
              "      <td>with the development of supportive measures th...</td>\n",
              "      <td>128</td>\n",
              "    </tr>\n",
              "  </tbody>\n",
              "</table>\n",
              "</div>"
            ],
            "text/plain": [
              "         nctid                                        description label  \\\n",
              "0  NCT02464748  MND is often referred to as amyotrophic latera...   ALS   \n",
              "1  NCT00362362  OBJECTIVE:||The causes of sporadic motor neuro...   ALS   \n",
              "2  NCT03154450  Non-invasive ventilation (NIV) use in patients...   ALS   \n",
              "3  NCT03487263  The objectives of this study are to determine:...   ALS   \n",
              "4  NCT04454892  With the development of supportive measures, t...   ALS   \n",
              "\n",
              "                                   clean_description  description_length  \n",
              "0  mnd is often referred to as amyotrophic latera...                  14  \n",
              "1  objectivethe causes of sporadic motor neuron d...                 397  \n",
              "2  noninvasive ventilation niv use in patients wi...                 323  \n",
              "3  the objectives of this study are to determinet...                 159  \n",
              "4  with the development of supportive measures th...                 128  "
            ]
          },
          "execution_count": 24,
          "metadata": {},
          "output_type": "execute_result"
        }
      ],
      "source": [
        "df.head()"
      ]
    },
    {
      "cell_type": "code",
      "execution_count": 25,
      "metadata": {},
      "outputs": [
        {
          "data": {
            "text/plain": [
              "count    1759.000000\n",
              "mean      289.876066\n",
              "std       303.843952\n",
              "min         2.000000\n",
              "25%       108.000000\n",
              "50%       203.000000\n",
              "75%       348.500000\n",
              "max      3234.000000\n",
              "Name: description_length, dtype: float64"
            ]
          },
          "execution_count": 25,
          "metadata": {},
          "output_type": "execute_result"
        }
      ],
      "source": [
        "df['description_length'].describe() #summary statistics"
      ]
    },
    {
      "cell_type": "markdown",
      "metadata": {},
      "source": [
        "#Plotting distribution of description length"
      ]
    },
    {
      "cell_type": "code",
      "execution_count": 27,
      "metadata": {},
      "outputs": [
        {
          "data": {
            "image/png": "[encoded data removed]",
            "text/plain": [
              "<Figure size 800x500 with 1 Axes>"
            ]
          },
          "metadata": {},
          "output_type": "display_data"
        }
      ],
      "source": [
        "import matplotlib.pyplot as plt\n",
        "import seaborn as sns\n",
        "\n",
        "plt.figure(figsize=(8,5))\n",
        "sns.histplot(df['description_length'], bins=30, color='blue', kde=True)\n",
        "plt.title(\"Distribution of Description Length\")\n",
        "plt.xlabel('Description Length')\n",
        "plt.ylabel('Count')\n",
        "plt.show()"
      ]
    },
    {
      "cell_type": "code",
      "execution_count": null,
      "metadata": {},
      "outputs": [],
      "source": [
        "MAX_SEQUENCE_LENGTH = 500\n",
        "#Truncating the description length to 500\n",
        "def truncate(text, max_length=MAX_SEQUENCE_LENGTH):\n",
        "    words = text.split()\n",
        "    if len(words) > max_length:\n",
        "        text = \" \". join(words[:max_length])\n",
        "    return text\n",
        "\n",
        "df['clean_description'] = df['clean_description'].apply(truncate)"
      ]
    },
    {
      "cell_type": "code",
      "execution_count": 31,
      "metadata": {},
      "outputs": [
        {
          "data": {
            "text/plain": [
              "0     14\n",
              "1    397\n",
              "2    323\n",
              "3    159\n",
              "4    128\n",
              "Name: description_length, dtype: int64"
            ]
          },
          "execution_count": 31,
          "metadata": {},
          "output_type": "execute_result"
        }
      ],
      "source": [
        "#check the length of the description column\n",
        "df['description_length'] = df['clean_description'].apply(lambda x: len(str(x).split()))\n",
        "\n",
        "df['description_length'].head()"
      ]
    },
    {
      "cell_type": "code",
      "execution_count": 33,
      "metadata": {},
      "outputs": [
        {
          "data": {
            "text/plain": [
              "count    1759.000000\n",
              "mean      236.128482\n",
              "std       153.164004\n",
              "min         2.000000\n",
              "25%       108.000000\n",
              "50%       203.000000\n",
              "75%       348.500000\n",
              "max       500.000000\n",
              "Name: description_length, dtype: float64"
            ]
          },
          "execution_count": 33,
          "metadata": {},
          "output_type": "execute_result"
        }
      ],
      "source": [
        "df['description_length'].describe()"
      ]
    },
    {
      "cell_type": "code",
      "execution_count": 42,
      "metadata": {
        "id": "3_R9w91C7BMZ"
      },
      "outputs": [],
      "source": [
        "from sklearn.model_selection import train_test_split\n",
        "\n",
        "X = df['clean_description']\n",
        "y = df['label']\n",
        "\n",
        "# Split data\n",
        "X_train, X_test, y_train, y_test = train_test_split(X, y, test_size=0.2, random_state=42)"
      ]
    },
    {
      "cell_type": "code",
      "execution_count": 48,
      "metadata": {
        "id": "GW8lvI_i7fBO"
      },
      "outputs": [],
      "source": [
        "from sklearn.feature_extraction.text import TfidfVectorizer\n",
        "from sklearn.linear_model import LogisticRegression\n",
        "from sklearn.pipeline import Pipeline\n",
        "from sklearn.metrics import accuracy_score, classification_report\n",
        "\n",
        "# TF-IDF + Logistic Regression\n",
        "pipeline = Pipeline([\n",
        "    ('tfidf', TfidfVectorizer(max_features=5000,ngram_range=(1, 2), stop_words='english')),\n",
        "    ('clf', LogisticRegression())\n",
        "])"
      ]
    },
    {
      "cell_type": "code",
      "execution_count": 49,
      "metadata": {
        "colab": {
          "base_uri": "https://localhost:8080/"
        },
        "id": "VxsBckVN8jIO",
        "outputId": "fd3ab05a-abc4-4c01-efb0-5871107e6433"
      },
      "outputs": [
        {
          "name": "stdout",
          "output_type": "stream",
          "text": [
            "Accuracy 0.9119318181818182\n"
          ]
        }
      ],
      "source": [
        "import joblib\n",
        "\n",
        "pipeline.fit(X_train, y_train)\n",
        "y_pred = pipeline.predict(X_test)\n",
        "\n",
        "accuracy = accuracy_score(y_test, y_pred)\n",
        "cls_report = classification_report(y_test, y_pred)\n",
        "\n",
        "print(\"Accuracy\", accuracy)\n",
        "\n",
        "# Save model\n",
        "# joblib.dump(pipeline, \"lr_model.pkl\")"
      ]
    },
    {
      "cell_type": "code",
      "execution_count": null,
      "metadata": {},
      "outputs": [
        {
          "name": "stdout",
          "output_type": "stream",
          "text": [
            "Accuracy 0.9204545454545454\n",
            "classification_report:\n",
            "                                precision    recall  f1-score   support\n",
            "\n",
            "                          ALS       0.86      0.92      0.89        73\n",
            "                     Dementia       0.96      0.96      0.96        67\n",
            "Obsessive Compulsive Disorder       0.94      0.95      0.94        79\n",
            "          Parkinson’s Disease       0.91      0.91      0.91        66\n",
            "                    Scoliosis       0.95      0.87      0.91        67\n",
            "\n",
            "                     accuracy                           0.92       352\n",
            "                    macro avg       0.92      0.92      0.92       352\n",
            "                 weighted avg       0.92      0.92      0.92       352\n",
            "\n"
          ]
        }
      ],
      "source": [
        "# TF-IDF + Logistic Regression\n",
        "pipeline = Pipeline([\n",
        "    ('tfidf', TfidfVectorizer()),\n",
        "    ('clf', LogisticRegression())\n",
        "])\n",
        "\n",
        "import joblib\n",
        "\n",
        "pipeline.fit(X_train, y_train)\n",
        "y_pred = pipeline.predict(X_test)\n",
        "\n",
        "accuracy = accuracy_score(y_test, y_pred)\n",
        "cls_report = classification_report(y_test, y_pred)\n",
        "\n",
        "print(\"Accuracy\", accuracy)\n",
        "print(\"classification_report:\\n\", cls_report)\n",
        "\n",
        "#Save model\n",
        "# joblib.dump(pipeline, \"lr_model.pkl\")"
      ]
    },
    {
      "cell_type": "markdown",
      "metadata": {},
      "source": [
        "Analyzing the model parameters to find the best model using GridSearch"
      ]
    },
    {
      "cell_type": "code",
      "execution_count": null,
      "metadata": {},
      "outputs": [
        {
          "name": "stdout",
          "output_type": "stream",
          "text": [
            "Best parameters:  {'C': 10, 'max_iter': 100, 'solver': 'liblinear'}\n",
            "Best accuracy:  0.9204545454545454\n",
            "Best Model Classification Report:\n",
            "                                precision    recall  f1-score   support\n",
            "\n",
            "                          ALS       0.88      0.92      0.90        73\n",
            "                     Dementia       0.97      0.96      0.96        67\n",
            "Obsessive Compulsive Disorder       0.94      0.95      0.94        79\n",
            "          Parkinson’s Disease       0.88      0.89      0.89        66\n",
            "                    Scoliosis       0.94      0.88      0.91        67\n",
            "\n",
            "                     accuracy                           0.92       352\n",
            "                    macro avg       0.92      0.92      0.92       352\n",
            "                 weighted avg       0.92      0.92      0.92       352\n",
            "\n"
          ]
        }
      ],
      "source": [
        "#Grid Search for finding the best model parameters\n",
        "#Grid Search for Logistic Regression\n",
        "from sklearn.model_selection import  GridSearchCV\n",
        "\n",
        "\n",
        "#Convert text to numerical data using TF-IDF\n",
        "vectorizer = TfidfVectorizer()\n",
        "X_train_tfidf = vectorizer.fit_transform(X_train)\n",
        "X_test_tfidf = vectorizer.transform(X_test)\n",
        "param_grid = {\n",
        "    'C': [0.1, 1, 10],\n",
        "    'max_iter': [100, 200],\n",
        "    'solver': ['liblinear', 'saga']\n",
        "}\n",
        "grid_search = GridSearchCV(LogisticRegression(), param_grid, cv=5, n_jobs=-1)\n",
        "\n",
        "grid_search.fit(X_train_tfidf, y_train)\n",
        "\n",
        "print(\"Best parameters: \", grid_search.best_params_)\n",
        "best_model = grid_search.best_estimator_\n",
        "y_pred_best = best_model.predict(X_test_tfidf)\n",
        "\n",
        "accuracy_best = accuracy_score(y_test, y_pred_best)\n",
        "print(\"Best accuracy: \", accuracy_best)\n",
        "print(\"Best Model Classification Report:\\n\", classification_report(y_test, y_pred_best))"
      ]
    },
    {
      "cell_type": "code",
      "execution_count": null,
      "metadata": {},
      "outputs": [],
      "source": [
        "import seaborn as sns\n",
        "import matplotlib.pyplot as plt\n",
        "from sklearn.metrics import confusion_matrix\n",
        "\n",
        "#Confusion Matrix\n",
        "cm = confusion_matrix(y_test, y_pred)\n",
        "sns.heatmap(cm, annot=True, fmt='d', cmap='Blues', xticklabels=['Class 0', 'Class 1'], yticklabels=['Class 0', 'Class 1'])\n",
        "plt.xlabel('Predicted')\n",
        "plt.ylabel('Actual')\n",
        "plt.title('Confusion Matrix')\n",
        "plt.show()"
      ]
    },
    {
      "cell_type": "code",
      "execution_count": 34,
      "metadata": {
        "id": "SFL6nYV49uW0"
      },
      "outputs": [
        {
          "name": "stdout",
          "output_type": "stream",
          "text": [
            "classification_report:\n",
            "                                precision    recall  f1-score   support\n",
            "\n",
            "                          ALS       0.92      0.86      0.89        78\n",
            "                     Dementia       0.96      0.96      0.96        67\n",
            "Obsessive Compulsive Disorder       0.95      0.94      0.94        80\n",
            "          Parkinson’s Disease       0.91      0.91      0.91        66\n",
            "                    Scoliosis       0.87      0.95      0.91        61\n",
            "\n",
            "                     accuracy                           0.92       352\n",
            "                    macro avg       0.92      0.92      0.92       352\n",
            "                 weighted avg       0.92      0.92      0.92       352\n",
            "\n"
          ]
        }
      ],
      "source": [
        "print(\"classification_report:\\n\", cls_report)"
      ]
    },
    {
      "cell_type": "code",
      "execution_count": null,
      "metadata": {},
      "outputs": [],
      "source": [
        "#Convert classification report string into a dictionary\n",
        "report_dict = classification_report(y_test, y_pred, output_dict=True)"
      ]
    },
    {
      "cell_type": "code",
      "execution_count": null,
      "metadata": {},
      "outputs": [
        {
          "name": "stderr",
          "output_type": "stream",
          "text": [
            "C:\\Users\\shabn\\AppData\\Local\\Temp\\ipykernel_19116\\132285261.py:8: FutureWarning: \n",
            "\n",
            "Passing `palette` without assigning `hue` is deprecated and will be removed in v0.14.0. Assign the `x` variable to `hue` and set `legend=False` for the same effect.\n",
            "\n",
            "  sns.barplot(x=report_df.index, y='precision', data=report_df, ax=axes[0], palette='Blues_d')\n",
            "C:\\Users\\shabn\\AppData\\Local\\Temp\\ipykernel_19116\\132285261.py:13: FutureWarning: \n",
            "\n",
            "Passing `palette` without assigning `hue` is deprecated and will be removed in v0.14.0. Assign the `x` variable to `hue` and set `legend=False` for the same effect.\n",
            "\n",
            "  sns.barplot(x=report_df.index, y='recall', data=report_df, ax=axes[1], palette='Greens_d')\n",
            "C:\\Users\\shabn\\AppData\\Local\\Temp\\ipykernel_19116\\132285261.py:18: FutureWarning: \n",
            "\n",
            "Passing `palette` without assigning `hue` is deprecated and will be removed in v0.14.0. Assign the `x` variable to `hue` and set `legend=False` for the same effect.\n",
            "\n",
            "  sns.barplot(x=report_df.index, y='f1-score', data=report_df, ax=axes[2], palette='Oranges_d')\n"
          ]
        },
        {
          "data": {
            "image/png": "[encoded data removed]",
            "text/plain": [
              "<Figure size 1800x600 with 3 Axes>"
            ]
          },
          "metadata": {},
          "output_type": "display_data"
        },
        {
          "name": "stderr",
          "output_type": "stream",
          "text": [
            "C:\\Users\\shabn\\AppData\\Local\\Temp\\ipykernel_19116\\132285261.py:28: FutureWarning: \n",
            "\n",
            "Passing `palette` without assigning `hue` is deprecated and will be removed in v0.14.0. Assign the `x` variable to `hue` and set `legend=False` for the same effect.\n",
            "\n",
            "  sns.barplot(x=report_df.index, y='support', data=report_df, palette='Purples_d')\n"
          ]
        },
        {
          "data": {
            "image/png": "[encoded data removed]",
            "text/plain": [
              "<Figure size 800x600 with 1 Axes>"
            ]
          },
          "metadata": {},
          "output_type": "display_data"
        }
      ],
      "source": [
        "\n",
        "#Convert the report to a DataFrame\n",
        "report_df = pd.DataFrame(report_dict).T  # Transpose to have classes as rows\n",
        "\n",
        "#Plot Precision, Recall, F1-Score\n",
        "fig, axes = plt.subplots(1, 3, figsize=(18, 6))\n",
        "\n",
        "#Plot Precision\n",
        "sns.barplot(x=report_df.index, y='precision', data=report_df, ax=axes[0], palette='Blues_d')\n",
        "axes[0].set_title('Precision for each class')\n",
        "axes[0].set_ylabel('Precision')\n",
        "\n",
        "#Plot Recall\n",
        "sns.barplot(x=report_df.index, y='recall', data=report_df, ax=axes[1], palette='Greens_d')\n",
        "axes[1].set_title('Recall for each class')\n",
        "axes[1].set_ylabel('Recall')\n",
        "\n",
        "#Plot F1-Score\n",
        "sns.barplot(x=report_df.index, y='f1-score', data=report_df, ax=axes[2], palette='Oranges_d')\n",
        "axes[2].set_title('F1-Score for each class')\n",
        "axes[2].set_ylabel('F1-Score')\n",
        "\n",
        "#Adjust layout\n",
        "plt.tight_layout()\n",
        "plt.show()\n",
        "\n",
        "#Plot Support (number of instances for each class)\n",
        "plt.figure(figsize=(8, 6))\n",
        "sns.barplot(x=report_df.index, y='support', data=report_df, palette='Purples_d')\n",
        "plt.title('Support (Number of instances) for each class')\n",
        "plt.ylabel('Support')\n",
        "plt.tight_layout()\n",
        "plt.show()"
      ]
    },
    {
      "cell_type": "code",
      "execution_count": 55,
      "metadata": {},
      "outputs": [
        {
          "name": "stdout",
          "output_type": "stream",
          "text": [
            "🔹 Logistic Regression Accuracy: 0.9290\n",
            "                               precision    recall  f1-score   support\n",
            "\n",
            "                          ALS       0.89      0.92      0.91        73\n",
            "                     Dementia       0.98      0.96      0.97        67\n",
            "Obsessive Compulsive Disorder       0.95      0.95      0.95        79\n",
            "          Parkinson’s Disease       0.88      0.89      0.89        66\n",
            "                    Scoliosis       0.94      0.93      0.93        67\n",
            "\n",
            "                     accuracy                           0.93       352\n",
            "                    macro avg       0.93      0.93      0.93       352\n",
            "                 weighted avg       0.93      0.93      0.93       352\n",
            "\n",
            "🔹 SVM Accuracy: 0.9205\n",
            "                               precision    recall  f1-score   support\n",
            "\n",
            "                          ALS       0.89      0.90      0.90        73\n",
            "                     Dementia       0.98      0.96      0.97        67\n",
            "Obsessive Compulsive Disorder       0.93      0.94      0.93        79\n",
            "          Parkinson’s Disease       0.86      0.94      0.90        66\n",
            "                    Scoliosis       0.95      0.87      0.91        67\n",
            "\n",
            "                     accuracy                           0.92       352\n",
            "                    macro avg       0.92      0.92      0.92       352\n",
            "                 weighted avg       0.92      0.92      0.92       352\n",
            "\n",
            "🔹 Random Forest Accuracy: 0.9205\n",
            "                               precision    recall  f1-score   support\n",
            "\n",
            "                          ALS       0.88      0.92      0.90        73\n",
            "                     Dementia       0.90      0.93      0.91        67\n",
            "Obsessive Compulsive Disorder       0.96      0.91      0.94        79\n",
            "          Parkinson’s Disease       0.89      0.94      0.91        66\n",
            "                    Scoliosis       0.98      0.91      0.95        67\n",
            "\n",
            "                     accuracy                           0.92       352\n",
            "                    macro avg       0.92      0.92      0.92       352\n",
            "                 weighted avg       0.92      0.92      0.92       352\n",
            "\n",
            "🔹 Gradient Boosting Accuracy: 0.9062\n",
            "                               precision    recall  f1-score   support\n",
            "\n",
            "                          ALS       0.97      0.89      0.93        73\n",
            "                     Dementia       0.97      0.93      0.95        67\n",
            "Obsessive Compulsive Disorder       0.79      0.96      0.87        79\n",
            "          Parkinson’s Disease       0.94      0.88      0.91        66\n",
            "                    Scoliosis       0.92      0.87      0.89        67\n",
            "\n",
            "                     accuracy                           0.91       352\n",
            "                    macro avg       0.92      0.90      0.91       352\n",
            "                 weighted avg       0.91      0.91      0.91       352\n",
            "\n"
          ]
        }
      ],
      "source": [
        "from sklearn.svm import SVC\n",
        "from sklearn.ensemble import RandomForestClassifier, GradientBoostingClassifier\n",
        "from sklearn.model_selection import train_test_split\n",
        "from sklearn.metrics import accuracy_score, classification_report\n",
        "import numpy as np\n",
        "\n",
        "X= df['clean_description']\n",
        "X_tfidf = vectorizer.fit_transform(X)\n",
        "y = df['label']\n",
        "# Split data (assuming X_tfidf is your TF-IDF transformed text features)\n",
        "X_train, X_test, y_train, y_test = train_test_split(X_tfidf, y, test_size=0.2, random_state=42)\n",
        "\n",
        "# Define models\n",
        "models = {\n",
        "    \"Logistic Regression\": LogisticRegression(C=10, max_iter=100, solver='liblinear'),\n",
        "    \"SVM\": SVC(kernel='linear', C=1),\n",
        "    \"Random Forest\": RandomForestClassifier(n_estimators=100, random_state=42),\n",
        "    \"Gradient Boosting\": GradientBoostingClassifier(n_estimators=100, learning_rate=0.1, random_state=42)\n",
        "}\n",
        "\n",
        "# Train and evaluate models\n",
        "for name, model in models.items():\n",
        "    model.fit(X_train, y_train)\n",
        "    y_pred = model.predict(X_test)\n",
        "    acc = accuracy_score(y_test, y_pred)\n",
        "    print(f\"🔹 {name} Accuracy: {acc:.4f}\")\n",
        "    print(classification_report(y_test, y_pred))\n"
      ]
    },
    {
      "cell_type": "code",
      "execution_count": 57,
      "metadata": {},
      "outputs": [
        {
          "name": "stdout",
          "output_type": "stream",
          "text": [
            "🔹 Bagging Accuracy: 0.9176136363636364\n"
          ]
        }
      ],
      "source": [
        "from sklearn.ensemble import BaggingClassifier\n",
        "from sklearn.linear_model import LogisticRegression\n",
        "\n",
        "bagging_model = BaggingClassifier(estimator=LogisticRegression(), n_estimators=10, random_state=42)\n",
        "bagging_model.fit(X_train, y_train)\n",
        "y_pred_bagging = bagging_model.predict(X_test)\n",
        "print(\"🔹 Bagging Accuracy:\", accuracy_score(y_test, y_pred_bagging))"
      ]
    },
    {
      "cell_type": "code",
      "execution_count": 58,
      "metadata": {},
      "outputs": [
        {
          "name": "stdout",
          "output_type": "stream",
          "text": [
            "🔹 Boosting Accuracy: 0.8806818181818182\n"
          ]
        }
      ],
      "source": [
        "from sklearn.ensemble import AdaBoostClassifier\n",
        "\n",
        "boosting_model = AdaBoostClassifier(n_estimators=50, random_state=42)\n",
        "boosting_model.fit(X_train, y_train)\n",
        "y_pred_boosting = boosting_model.predict(X_test)\n",
        "print(\"🔹 Boosting Accuracy:\", accuracy_score(y_test, y_pred_boosting))\n"
      ]
    },
    {
      "cell_type": "code",
      "execution_count": 59,
      "metadata": {},
      "outputs": [
        {
          "name": "stdout",
          "output_type": "stream",
          "text": [
            "🔹 Stacking Accuracy: 0.9289772727272727\n"
          ]
        }
      ],
      "source": [
        "from sklearn.ensemble import StackingClassifier\n",
        "\n",
        "# Define base models\n",
        "base_models = [\n",
        "    ('lr', LogisticRegression()),\n",
        "    ('rf', RandomForestClassifier(n_estimators=50)),\n",
        "    ('gb', GradientBoostingClassifier(n_estimators=50))\n",
        "]\n",
        "\n",
        "# Meta-learner (final model)\n",
        "meta_learner = LogisticRegression()\n",
        "\n",
        "# Stacking classifier\n",
        "stacking_model = StackingClassifier(estimators=base_models, final_estimator=meta_learner, cv=5)\n",
        "stacking_model.fit(X_train, y_train)\n",
        "y_pred_stacking = stacking_model.predict(X_test)\n",
        "print(\"🔹 Stacking Accuracy:\", accuracy_score(y_test, y_pred_stacking))\n"
      ]
    },
    {
      "cell_type": "code",
      "execution_count": 60,
      "metadata": {},
      "outputs": [
        {
          "name": "stdout",
          "output_type": "stream",
          "text": [
            "🔹 Best Random Forest Accuracy: 0.9261363636363636\n",
            "Best Parameters: {'n_estimators': 200, 'min_samples_split': 5, 'min_samples_leaf': 2, 'max_depth': 30}\n"
          ]
        }
      ],
      "source": [
        "from sklearn.model_selection import RandomizedSearchCV\n",
        "\n",
        "# Define parameter grid for Random Forest\n",
        "param_grid = {\n",
        "    'n_estimators': [50, 100, 200],\n",
        "    'max_depth': [None, 10, 20, 30],\n",
        "    'min_samples_split': [2, 5, 10],\n",
        "    'min_samples_leaf': [1, 2, 4]\n",
        "}\n",
        "\n",
        "# Perform Randomized Search\n",
        "rf = RandomForestClassifier(random_state=42)\n",
        "random_search = RandomizedSearchCV(rf, param_distributions=param_grid, n_iter=10, cv=5, random_state=42)\n",
        "random_search.fit(X_train, y_train)\n",
        "\n",
        "# Best parameters and model evaluation\n",
        "best_rf = random_search.best_estimator_\n",
        "y_pred_best_rf = best_rf.predict(X_test)\n",
        "print(\"🔹 Best Random Forest Accuracy:\", accuracy_score(y_test, y_pred_best_rf))\n",
        "print(\"Best Parameters:\", random_search.best_params_)\n"
      ]
    },
    {
      "cell_type": "code",
      "execution_count": 61,
      "metadata": {},
      "outputs": [
        {
          "name": "stdout",
          "output_type": "stream",
          "text": [
            "Collecting mlflow\n",
            "  Downloading mlflow-2.20.2-py3-none-any.whl.metadata (30 kB)\n",
            "Collecting mlflow-skinny==2.20.2 (from mlflow)\n",
            "  Downloading mlflow_skinny-2.20.2-py3-none-any.whl.metadata (31 kB)\n",
            "Requirement already satisfied: Flask<4 in .\\venv\\lib\\site-packages (from mlflow) (3.1.0)\n",
            "Requirement already satisfied: Jinja2<4,>=3.0 in .\\venv\\lib\\site-packages (from mlflow) (3.1.5)\n",
            "Collecting alembic!=1.10.0,<2 (from mlflow)\n",
            "  Downloading alembic-1.14.1-py3-none-any.whl.metadata (7.4 kB)\n",
            "Collecting docker<8,>=4.0.0 (from mlflow)\n",
            "  Using cached docker-7.1.0-py3-none-any.whl.metadata (3.8 kB)\n",
            "Collecting graphene<4 (from mlflow)\n",
            "  Downloading graphene-3.4.3-py2.py3-none-any.whl.metadata (6.9 kB)\n",
            "Collecting markdown<4,>=3.3 (from mlflow)\n",
            "  Downloading Markdown-3.7-py3-none-any.whl.metadata (7.0 kB)\n",
            "Requirement already satisfied: matplotlib<4 in .\\venv\\lib\\site-packages (from mlflow) (3.10.0)\n",
            "Requirement already satisfied: numpy<3 in .\\venv\\lib\\site-packages (from mlflow) (2.2.3)\n",
            "Requirement already satisfied: pandas<3 in .\\venv\\lib\\site-packages (from mlflow) (2.2.3)\n",
            "Collecting pyarrow<19,>=4.0.0 (from mlflow)\n",
            "  Using cached pyarrow-18.1.0-cp312-cp312-win_amd64.whl.metadata (3.4 kB)\n",
            "Requirement already satisfied: scikit-learn<2 in .\\venv\\lib\\site-packages (from mlflow) (1.6.1)\n",
            "Requirement already satisfied: scipy<2 in .\\venv\\lib\\site-packages (from mlflow) (1.15.2)\n",
            "Collecting sqlalchemy<3,>=1.4.0 (from mlflow)\n",
            "  Downloading SQLAlchemy-2.0.38-cp312-cp312-win_amd64.whl.metadata (9.9 kB)\n",
            "Collecting waitress<4 (from mlflow)\n",
            "  Downloading waitress-3.0.2-py3-none-any.whl.metadata (5.8 kB)\n",
            "Collecting cachetools<6,>=5.0.0 (from mlflow-skinny==2.20.2->mlflow)\n",
            "  Downloading cachetools-5.5.1-py3-none-any.whl.metadata (5.4 kB)\n",
            "Requirement already satisfied: click<9,>=7.0 in .\\venv\\lib\\site-packages (from mlflow-skinny==2.20.2->mlflow) (8.1.8)\n",
            "Collecting cloudpickle<4 (from mlflow-skinny==2.20.2->mlflow)\n",
            "  Using cached cloudpickle-3.1.1-py3-none-any.whl.metadata (7.1 kB)\n",
            "Collecting databricks-sdk<1,>=0.20.0 (from mlflow-skinny==2.20.2->mlflow)\n",
            "  Downloading databricks_sdk-0.44.1-py3-none-any.whl.metadata (38 kB)\n",
            "Collecting gitpython<4,>=3.1.9 (from mlflow-skinny==2.20.2->mlflow)\n",
            "  Downloading GitPython-3.1.44-py3-none-any.whl.metadata (13 kB)\n",
            "Collecting importlib_metadata!=4.7.0,<9,>=3.7.0 (from mlflow-skinny==2.20.2->mlflow)\n",
            "  Downloading importlib_metadata-8.6.1-py3-none-any.whl.metadata (4.7 kB)\n",
            "Collecting opentelemetry-api<3,>=1.9.0 (from mlflow-skinny==2.20.2->mlflow)\n",
            "  Downloading opentelemetry_api-1.30.0-py3-none-any.whl.metadata (1.6 kB)\n",
            "Collecting opentelemetry-sdk<3,>=1.9.0 (from mlflow-skinny==2.20.2->mlflow)\n",
            "  Downloading opentelemetry_sdk-1.30.0-py3-none-any.whl.metadata (1.6 kB)\n",
            "Requirement already satisfied: packaging<25 in .\\venv\\lib\\site-packages (from mlflow-skinny==2.20.2->mlflow) (24.2)\n",
            "Collecting protobuf<6,>=3.12.0 (from mlflow-skinny==2.20.2->mlflow)\n",
            "  Using cached protobuf-5.29.3-cp310-abi3-win_amd64.whl.metadata (592 bytes)\n",
            "Collecting pydantic<3,>=1.10.8 (from mlflow-skinny==2.20.2->mlflow)\n",
            "  Downloading pydantic-2.10.6-py3-none-any.whl.metadata (30 kB)\n",
            "Collecting pyyaml<7,>=5.1 (from mlflow-skinny==2.20.2->mlflow)\n",
            "  Using cached PyYAML-6.0.2-cp312-cp312-win_amd64.whl.metadata (2.1 kB)\n",
            "Requirement already satisfied: requests<3,>=2.17.3 in .\\venv\\lib\\site-packages (from mlflow-skinny==2.20.2->mlflow) (2.32.3)\n",
            "Collecting sqlparse<1,>=0.4.0 (from mlflow-skinny==2.20.2->mlflow)\n",
            "  Downloading sqlparse-0.5.3-py3-none-any.whl.metadata (3.9 kB)\n",
            "Collecting typing-extensions<5,>=4.0.0 (from mlflow-skinny==2.20.2->mlflow)\n",
            "  Using cached typing_extensions-4.12.2-py3-none-any.whl.metadata (3.0 kB)\n",
            "Collecting Mako (from alembic!=1.10.0,<2->mlflow)\n",
            "  Downloading Mako-1.3.9-py3-none-any.whl.metadata (2.9 kB)\n",
            "Requirement already satisfied: pywin32>=304 in .\\venv\\lib\\site-packages (from docker<8,>=4.0.0->mlflow) (308)\n",
            "Requirement already satisfied: urllib3>=1.26.0 in .\\venv\\lib\\site-packages (from docker<8,>=4.0.0->mlflow) (2.3.0)\n",
            "Requirement already satisfied: Werkzeug>=3.1 in .\\venv\\lib\\site-packages (from Flask<4->mlflow) (3.1.3)\n",
            "Requirement already satisfied: itsdangerous>=2.2 in .\\venv\\lib\\site-packages (from Flask<4->mlflow) (2.2.0)\n",
            "Requirement already satisfied: blinker>=1.9 in .\\venv\\lib\\site-packages (from Flask<4->mlflow) (1.9.0)\n",
            "Collecting graphql-core<3.3,>=3.1 (from graphene<4->mlflow)\n",
            "  Downloading graphql_core-3.2.6-py3-none-any.whl.metadata (11 kB)\n",
            "Collecting graphql-relay<3.3,>=3.1 (from graphene<4->mlflow)\n",
            "  Downloading graphql_relay-3.2.0-py3-none-any.whl.metadata (12 kB)\n",
            "Requirement already satisfied: python-dateutil<3,>=2.7.0 in .\\venv\\lib\\site-packages (from graphene<4->mlflow) (2.9.0.post0)\n",
            "Requirement already satisfied: MarkupSafe>=2.0 in .\\venv\\lib\\site-packages (from Jinja2<4,>=3.0->mlflow) (3.0.2)\n",
            "Requirement already satisfied: contourpy>=1.0.1 in .\\venv\\lib\\site-packages (from matplotlib<4->mlflow) (1.3.1)\n",
            "Requirement already satisfied: cycler>=0.10 in .\\venv\\lib\\site-packages (from matplotlib<4->mlflow) (0.12.1)\n",
            "Requirement already satisfied: fonttools>=4.22.0 in .\\venv\\lib\\site-packages (from matplotlib<4->mlflow) (4.56.0)\n",
            "Requirement already satisfied: kiwisolver>=1.3.1 in .\\venv\\lib\\site-packages (from matplotlib<4->mlflow) (1.4.8)\n",
            "Requirement already satisfied: pillow>=8 in .\\venv\\lib\\site-packages (from matplotlib<4->mlflow) (11.1.0)\n",
            "Requirement already satisfied: pyparsing>=2.3.1 in .\\venv\\lib\\site-packages (from matplotlib<4->mlflow) (3.2.1)\n",
            "Requirement already satisfied: pytz>=2020.1 in .\\venv\\lib\\site-packages (from pandas<3->mlflow) (2025.1)\n",
            "Requirement already satisfied: tzdata>=2022.7 in .\\venv\\lib\\site-packages (from pandas<3->mlflow) (2025.1)\n",
            "Requirement already satisfied: joblib>=1.2.0 in .\\venv\\lib\\site-packages (from scikit-learn<2->mlflow) (1.4.2)\n",
            "Requirement already satisfied: threadpoolctl>=3.1.0 in .\\venv\\lib\\site-packages (from scikit-learn<2->mlflow) (3.5.0)\n",
            "Collecting greenlet!=0.4.17 (from sqlalchemy<3,>=1.4.0->mlflow)\n",
            "  Using cached greenlet-3.1.1-cp312-cp312-win_amd64.whl.metadata (3.9 kB)\n",
            "Requirement already satisfied: colorama in .\\venv\\lib\\site-packages (from click<9,>=7.0->mlflow-skinny==2.20.2->mlflow) (0.4.6)\n",
            "Collecting google-auth~=2.0 (from databricks-sdk<1,>=0.20.0->mlflow-skinny==2.20.2->mlflow)\n",
            "  Downloading google_auth-2.38.0-py2.py3-none-any.whl.metadata (4.8 kB)\n",
            "Collecting gitdb<5,>=4.0.1 (from gitpython<4,>=3.1.9->mlflow-skinny==2.20.2->mlflow)\n",
            "  Downloading gitdb-4.0.12-py3-none-any.whl.metadata (1.2 kB)\n",
            "Collecting zipp>=3.20 (from importlib_metadata!=4.7.0,<9,>=3.7.0->mlflow-skinny==2.20.2->mlflow)\n",
            "  Using cached zipp-3.21.0-py3-none-any.whl.metadata (3.7 kB)\n",
            "Collecting deprecated>=1.2.6 (from opentelemetry-api<3,>=1.9.0->mlflow-skinny==2.20.2->mlflow)\n",
            "  Downloading Deprecated-1.2.18-py2.py3-none-any.whl.metadata (5.7 kB)\n",
            "Collecting importlib_metadata!=4.7.0,<9,>=3.7.0 (from mlflow-skinny==2.20.2->mlflow)\n",
            "  Downloading importlib_metadata-8.5.0-py3-none-any.whl.metadata (4.8 kB)\n",
            "Collecting opentelemetry-semantic-conventions==0.51b0 (from opentelemetry-sdk<3,>=1.9.0->mlflow-skinny==2.20.2->mlflow)\n",
            "  Downloading opentelemetry_semantic_conventions-0.51b0-py3-none-any.whl.metadata (2.5 kB)\n",
            "Collecting annotated-types>=0.6.0 (from pydantic<3,>=1.10.8->mlflow-skinny==2.20.2->mlflow)\n",
            "  Using cached annotated_types-0.7.0-py3-none-any.whl.metadata (15 kB)\n",
            "Collecting pydantic-core==2.27.2 (from pydantic<3,>=1.10.8->mlflow-skinny==2.20.2->mlflow)\n",
            "  Using cached pydantic_core-2.27.2-cp312-cp312-win_amd64.whl.metadata (6.7 kB)\n",
            "Requirement already satisfied: six>=1.5 in .\\venv\\lib\\site-packages (from python-dateutil<3,>=2.7.0->graphene<4->mlflow) (1.17.0)\n",
            "Requirement already satisfied: charset-normalizer<4,>=2 in .\\venv\\lib\\site-packages (from requests<3,>=2.17.3->mlflow-skinny==2.20.2->mlflow) (3.4.1)\n",
            "Requirement already satisfied: idna<4,>=2.5 in .\\venv\\lib\\site-packages (from requests<3,>=2.17.3->mlflow-skinny==2.20.2->mlflow) (3.10)\n",
            "Requirement already satisfied: certifi>=2017.4.17 in .\\venv\\lib\\site-packages (from requests<3,>=2.17.3->mlflow-skinny==2.20.2->mlflow) (2025.1.31)\n",
            "Collecting wrapt<2,>=1.10 (from deprecated>=1.2.6->opentelemetry-api<3,>=1.9.0->mlflow-skinny==2.20.2->mlflow)\n",
            "  Downloading wrapt-1.17.2-cp312-cp312-win_amd64.whl.metadata (6.5 kB)\n",
            "Collecting smmap<6,>=3.0.1 (from gitdb<5,>=4.0.1->gitpython<4,>=3.1.9->mlflow-skinny==2.20.2->mlflow)\n",
            "  Downloading smmap-5.0.2-py3-none-any.whl.metadata (4.3 kB)\n",
            "Collecting pyasn1-modules>=0.2.1 (from google-auth~=2.0->databricks-sdk<1,>=0.20.0->mlflow-skinny==2.20.2->mlflow)\n",
            "  Downloading pyasn1_modules-0.4.1-py3-none-any.whl.metadata (3.5 kB)\n",
            "Collecting rsa<5,>=3.1.4 (from google-auth~=2.0->databricks-sdk<1,>=0.20.0->mlflow-skinny==2.20.2->mlflow)\n",
            "  Downloading rsa-4.9-py3-none-any.whl.metadata (4.2 kB)\n",
            "Collecting pyasn1<0.7.0,>=0.4.6 (from pyasn1-modules>=0.2.1->google-auth~=2.0->databricks-sdk<1,>=0.20.0->mlflow-skinny==2.20.2->mlflow)\n",
            "  Downloading pyasn1-0.6.1-py3-none-any.whl.metadata (8.4 kB)\n",
            "Downloading mlflow-2.20.2-py3-none-any.whl (28.4 MB)\n",
            "   ---------------------------------------- 0.0/28.4 MB ? eta -:--:--\n",
            "   -- ------------------------------------- 2.1/28.4 MB 11.7 MB/s eta 0:00:03\n",
            "   -------- ------------------------------- 5.8/28.4 MB 14.1 MB/s eta 0:00:02\n",
            "   ------------ --------------------------- 8.9/28.4 MB 15.4 MB/s eta 0:00:02\n",
            "   ----------------- ---------------------- 12.6/28.4 MB 15.5 MB/s eta 0:00:02\n",
            "   ---------------------- ----------------- 15.7/28.4 MB 15.7 MB/s eta 0:00:01\n",
            "   -------------------------- ------------- 18.9/28.4 MB 15.3 MB/s eta 0:00:01\n",
            "   ------------------------------- -------- 22.3/28.4 MB 15.5 MB/s eta 0:00:01\n",
            "   ------------------------------------ --- 26.0/28.4 MB 15.7 MB/s eta 0:00:01\n",
            "   ---------------------------------------  28.3/28.4 MB 15.7 MB/s eta 0:00:01\n",
            "   ---------------------------------------  28.3/28.4 MB 15.7 MB/s eta 0:00:01\n",
            "   ---------------------------------------- 28.4/28.4 MB 12.4 MB/s eta 0:00:00\n",
            "Downloading mlflow_skinny-2.20.2-py3-none-any.whl (6.0 MB)\n",
            "   ---------------------------------------- 0.0/6.0 MB ? eta -:--:--\n",
            "   ---------------------- ----------------- 3.4/6.0 MB 16.7 MB/s eta 0:00:01\n",
            "   -------------------------------------- - 5.8/6.0 MB 16.8 MB/s eta 0:00:01\n",
            "   ---------------------------------------- 6.0/6.0 MB 12.7 MB/s eta 0:00:00\n",
            "Downloading alembic-1.14.1-py3-none-any.whl (233 kB)\n",
            "Using cached docker-7.1.0-py3-none-any.whl (147 kB)\n",
            "Downloading graphene-3.4.3-py2.py3-none-any.whl (114 kB)\n",
            "Downloading Markdown-3.7-py3-none-any.whl (106 kB)\n",
            "Using cached pyarrow-18.1.0-cp312-cp312-win_amd64.whl (25.1 MB)\n",
            "Downloading SQLAlchemy-2.0.38-cp312-cp312-win_amd64.whl (2.1 MB)\n",
            "   ---------------------------------------- 0.0/2.1 MB ? eta -:--:--\n",
            "   ---------------------------------------- 2.1/2.1 MB 11.7 MB/s eta 0:00:00\n",
            "Downloading waitress-3.0.2-py3-none-any.whl (56 kB)\n",
            "Downloading cachetools-5.5.1-py3-none-any.whl (9.5 kB)\n",
            "Using cached cloudpickle-3.1.1-py3-none-any.whl (20 kB)\n",
            "Downloading databricks_sdk-0.44.1-py3-none-any.whl (648 kB)\n",
            "   ---------------------------------------- 0.0/648.7 kB ? eta -:--:--\n",
            "   --------------------------------------- 648.7/648.7 kB 12.5 MB/s eta 0:00:00\n",
            "Downloading GitPython-3.1.44-py3-none-any.whl (207 kB)\n",
            "Downloading graphql_core-3.2.6-py3-none-any.whl (203 kB)\n",
            "Downloading graphql_relay-3.2.0-py3-none-any.whl (16 kB)\n",
            "Using cached greenlet-3.1.1-cp312-cp312-win_amd64.whl (299 kB)\n",
            "Downloading opentelemetry_api-1.30.0-py3-none-any.whl (64 kB)\n",
            "Downloading importlib_metadata-8.5.0-py3-none-any.whl (26 kB)\n",
            "Downloading opentelemetry_sdk-1.30.0-py3-none-any.whl (118 kB)\n",
            "Downloading opentelemetry_semantic_conventions-0.51b0-py3-none-any.whl (177 kB)\n",
            "Using cached protobuf-5.29.3-cp310-abi3-win_amd64.whl (434 kB)\n",
            "Downloading pydantic-2.10.6-py3-none-any.whl (431 kB)\n",
            "Using cached pydantic_core-2.27.2-cp312-cp312-win_amd64.whl (2.0 MB)\n",
            "Using cached PyYAML-6.0.2-cp312-cp312-win_amd64.whl (156 kB)\n",
            "Downloading sqlparse-0.5.3-py3-none-any.whl (44 kB)\n",
            "Using cached typing_extensions-4.12.2-py3-none-any.whl (37 kB)\n",
            "Downloading Mako-1.3.9-py3-none-any.whl (78 kB)\n",
            "Using cached annotated_types-0.7.0-py3-none-any.whl (13 kB)\n",
            "Downloading Deprecated-1.2.18-py2.py3-none-any.whl (10.0 kB)\n",
            "Downloading gitdb-4.0.12-py3-none-any.whl (62 kB)\n",
            "Downloading google_auth-2.38.0-py2.py3-none-any.whl (210 kB)\n",
            "Using cached zipp-3.21.0-py3-none-any.whl (9.6 kB)\n",
            "Downloading pyasn1_modules-0.4.1-py3-none-any.whl (181 kB)\n",
            "Downloading rsa-4.9-py3-none-any.whl (34 kB)\n",
            "Downloading smmap-5.0.2-py3-none-any.whl (24 kB)\n",
            "Downloading wrapt-1.17.2-cp312-cp312-win_amd64.whl (38 kB)\n",
            "Downloading pyasn1-0.6.1-py3-none-any.whl (83 kB)\n",
            "Installing collected packages: zipp, wrapt, waitress, typing-extensions, sqlparse, smmap, pyyaml, pyasn1, pyarrow, protobuf, markdown, Mako, greenlet, graphql-core, cloudpickle, cachetools, annotated-types, sqlalchemy, rsa, pydantic-core, pyasn1-modules, importlib_metadata, graphql-relay, gitdb, docker, deprecated, pydantic, opentelemetry-api, graphene, google-auth, gitpython, alembic, opentelemetry-semantic-conventions, databricks-sdk, opentelemetry-sdk, mlflow-skinny, mlflow\n",
            "Successfully installed Mako-1.3.9 alembic-1.14.1 annotated-types-0.7.0 cachetools-5.5.1 cloudpickle-3.1.1 databricks-sdk-0.44.1 deprecated-1.2.18 docker-7.1.0 gitdb-4.0.12 gitpython-3.1.44 google-auth-2.38.0 graphene-3.4.3 graphql-core-3.2.6 graphql-relay-3.2.0 greenlet-3.1.1 importlib_metadata-8.5.0 markdown-3.7 mlflow-2.20.2 mlflow-skinny-2.20.2 opentelemetry-api-1.30.0 opentelemetry-sdk-1.30.0 opentelemetry-semantic-conventions-0.51b0 protobuf-5.29.3 pyarrow-18.1.0 pyasn1-0.6.1 pyasn1-modules-0.4.1 pydantic-2.10.6 pydantic-core-2.27.2 pyyaml-6.0.2 rsa-4.9 smmap-5.0.2 sqlalchemy-2.0.38 sqlparse-0.5.3 typing-extensions-4.12.2 waitress-3.0.2 wrapt-1.17.2 zipp-3.21.0\n",
            "Note: you may need to restart the kernel to use updated packages.\n"
          ]
        }
      ],
      "source": [
        "pip install mlflow"
      ]
    },
    {
      "cell_type": "code",
      "execution_count": null,
      "metadata": {},
      "outputs": [
        {
          "name": "stderr",
          "output_type": "stream",
          "text": [
            "2025/02/20 13:48:41 WARNING mlflow.models.model: Model logged without a signature and input example. Please set `input_example` parameter when logging the model to auto infer the model signature.\n"
          ]
        },
        {
          "name": "stdout",
          "output_type": "stream",
          "text": [
            "✅ Logistic Regression Accuracy: 0.9290\n",
            "{'ALS': {'precision': 0.8933333333333333, 'recall': 0.9178082191780822, 'f1-score': 0.9054054054054054, 'support': 73.0}, 'Dementia': {'precision': 0.9846153846153847, 'recall': 0.9552238805970149, 'f1-score': 0.9696969696969697, 'support': 67.0}, 'Obsessive Compulsive Disorder': {'precision': 0.9493670886075949, 'recall': 0.9493670886075949, 'f1-score': 0.9493670886075949, 'support': 79.0}, 'Parkinson’s Disease': {'precision': 0.8805970149253731, 'recall': 0.8939393939393939, 'f1-score': 0.8872180451127819, 'support': 66.0}, 'Scoliosis': {'precision': 0.9393939393939394, 'recall': 0.9253731343283582, 'f1-score': 0.9323308270676691, 'support': 67.0}, 'accuracy': 0.9289772727272727, 'macro avg': {'precision': 0.9294613521751252, 'recall': 0.9283423433300889, 'f1-score': 0.928803667178084, 'support': 352.0}, 'weighted avg': {'precision': 0.9296629574631612, 'recall': 0.9289772727272727, 'f1-score': 0.9292239998729233, 'support': 352.0}}\n"
          ]
        },
        {
          "name": "stderr",
          "output_type": "stream",
          "text": [
            "2025/02/20 13:48:45 WARNING mlflow.models.model: Model logged without a signature and input example. Please set `input_example` parameter when logging the model to auto infer the model signature.\n"
          ]
        },
        {
          "name": "stdout",
          "output_type": "stream",
          "text": [
            "✅ Random Forest Accuracy: 0.8636\n",
            "{'ALS': {'precision': 0.8125, 'recall': 0.8904109589041096, 'f1-score': 0.8496732026143791, 'support': 73.0}, 'Dementia': {'precision': 0.6989247311827957, 'recall': 0.9701492537313433, 'f1-score': 0.8125, 'support': 67.0}, 'Obsessive Compulsive Disorder': {'precision': 0.9857142857142858, 'recall': 0.8734177215189873, 'f1-score': 0.9261744966442953, 'support': 79.0}, 'Parkinson’s Disease': {'precision': 0.9615384615384616, 'recall': 0.7575757575757576, 'f1-score': 0.847457627118644, 'support': 66.0}, 'Scoliosis': {'precision': 0.9649122807017544, 'recall': 0.8208955223880597, 'f1-score': 0.8870967741935484, 'support': 67.0}, 'accuracy': 0.8636363636363636, 'macro avg': {'precision': 0.8847179518274595, 'recall': 0.8624898428236516, 'f1-score': 0.8645804201141735, 'support': 352.0}, 'weighted avg': {'precision': 0.8867117807648633, 'recall': 0.8636363636363636, 'f1-score': 0.8664747621776911, 'support': 352.0}}\n"
          ]
        },
        {
          "name": "stderr",
          "output_type": "stream",
          "text": [
            "2025/02/20 13:49:47 WARNING mlflow.models.model: Model logged without a signature and input example. Please set `input_example` parameter when logging the model to auto infer the model signature.\n"
          ]
        },
        {
          "name": "stdout",
          "output_type": "stream",
          "text": [
            "✅ Gradient Boosting Accuracy: 0.9062\n",
            "{'ALS': {'precision': 0.9701492537313433, 'recall': 0.8904109589041096, 'f1-score': 0.9285714285714286, 'support': 73.0}, 'Dementia': {'precision': 0.96875, 'recall': 0.9253731343283582, 'f1-score': 0.9465648854961832, 'support': 67.0}, 'Obsessive Compulsive Disorder': {'precision': 0.7916666666666666, 'recall': 0.9620253164556962, 'f1-score': 0.8685714285714285, 'support': 79.0}, 'Parkinson’s Disease': {'precision': 0.9354838709677419, 'recall': 0.8787878787878788, 'f1-score': 0.90625, 'support': 66.0}, 'Scoliosis': {'precision': 0.9206349206349206, 'recall': 0.8656716417910447, 'f1-score': 0.8923076923076924, 'support': 67.0}, 'accuracy': 0.90625, 'macro avg': {'precision': 0.9173369424001345, 'recall': 0.9044537860534175, 'f1-score': 0.9084530869893467, 'support': 352.0}, 'weighted avg': {'precision': 0.9139013845325721, 'recall': 0.90625, 'f1-score': 0.9074426700446501, 'support': 352.0}}\n"
          ]
        },
        {
          "name": "stderr",
          "output_type": "stream",
          "text": [
            "2025/02/20 13:50:07 WARNING mlflow.models.model: Model logged without a signature and input example. Please set `input_example` parameter when logging the model to auto infer the model signature.\n"
          ]
        },
        {
          "name": "stdout",
          "output_type": "stream",
          "text": [
            "✅ SVM Accuracy: 0.9205\n",
            "{'ALS': {'precision': 0.8918918918918919, 'recall': 0.9041095890410958, 'f1-score': 0.8979591836734694, 'support': 73.0}, 'Dementia': {'precision': 0.9846153846153847, 'recall': 0.9552238805970149, 'f1-score': 0.9696969696969697, 'support': 67.0}, 'Obsessive Compulsive Disorder': {'precision': 0.925, 'recall': 0.9367088607594937, 'f1-score': 0.9308176100628931, 'support': 79.0}, 'Parkinson’s Disease': {'precision': 0.8611111111111112, 'recall': 0.9393939393939394, 'f1-score': 0.8985507246376812, 'support': 66.0}, 'Scoliosis': {'precision': 0.9508196721311475, 'recall': 0.8656716417910447, 'f1-score': 0.90625, 'support': 67.0}, 'accuracy': 0.9204545454545454, 'macro avg': {'precision': 0.9226876119499071, 'recall': 0.9202215823165177, 'f1-score': 0.9206548976142027, 'support': 352.0}, 'weighted avg': {'precision': 0.9224164495552813, 'recall': 0.9204545454545454, 'f1-score': 0.9206772909060107, 'support': 352.0}}\n",
            "🎯 Check MLflow UI with: `mlflow ui`\n"
          ]
        }
      ],
      "source": [
        "import mlflow\n",
        "import mlflow.sklearn\n",
        "from sklearn.ensemble import RandomForestClassifier, GradientBoostingClassifier\n",
        "from sklearn.svm import SVC\n",
        "from sklearn.linear_model import LogisticRegression\n",
        "from sklearn.metrics import accuracy_score\n",
        "\n",
        "# Define models\n",
        "models = {\n",
        "    \"Logistic Regression\": LogisticRegression(C=10, solver=\"liblinear\", max_iter=100),\n",
        "    \"Random Forest\": RandomForestClassifier(n_estimators=100, max_depth=5, random_state=42),\n",
        "    \"Gradient Boosting\": GradientBoostingClassifier(n_estimators=100, learning_rate=0.1, random_state=42),\n",
        "    \"SVM\": SVC(kernel=\"linear\", C=1, probability=True)\n",
        "}\n",
        "\n",
        "# Set MLFlow experiment\n",
        "mlflow.set_experiment(\"Model Selection\")\n",
        "\n",
        "# Train and log models\n",
        "for model_name, model in models.items():\n",
        "    with mlflow.start_run(run_name=model_name):\n",
        "        model.fit(X_train, y_train)\n",
        "        y_pred = model.predict(X_test)\n",
        "        acc = accuracy_score(y_test, y_pred)\n",
        "        cls_report = classification_report(y_test, y_pred, output_dict=True)\n",
        "\n",
        "        # Log parameters, metrics, and model\n",
        "        mlflow.log_param(\"model_type\", model_name)\n",
        "        mlflow.log_metric(\"accuracy\", acc)\n",
        "        mlflow.log_metric(\"precision\", report_dict[\"weighted avg\"][\"precision\"])\n",
        "        mlflow.log_metric(\"recall\", report_dict[\"weighted avg\"][\"recall\"])\n",
        "        mlflow.log_metric(\"f1-score\", report_dict[\"weighted avg\"][\"f1-score\"])\n",
        "\n",
        "        mlflow.sklearn.log_model(model, model_name)\n",
        "\n",
        "        print(f\"✅ {model_name} Accuracy: {acc:.4f}\")\n",
        "        print(cls_report)\n",
        "\n",
        "print(\"🎯 Check MLflow UI with: `mlflow ui`\")\n"
      ]
    }
  ],
  "metadata": {
    "colab": {
      "provenance": []
    },
    "kernelspec": {
      "display_name": "Python 3",
      "name": "python3"
    },
    "language_info": {
      "codemirror_mode": {
        "name": "ipython",
        "version": 3
      },
      "file_extension": ".py",
      "mimetype": "text/x-python",
      "name": "python",
      "nbconvert_exporter": "python",
      "pygments_lexer": "ipython3",
      "version": "3.12.7"
    }
  },
  "nbformat": 4,
  "nbformat_minor": 0
}
